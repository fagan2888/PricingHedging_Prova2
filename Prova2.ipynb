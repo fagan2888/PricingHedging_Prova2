{
 "cells": [
  {
   "cell_type": "markdown",
   "metadata": {},
   "source": [
    "# Prova 2"
   ]
  },
  {
   "cell_type": "markdown",
   "metadata": {},
   "source": [
    "import dos módulos básicos"
   ]
  },
  {
   "cell_type": "code",
   "execution_count": 9,
   "metadata": {
    "collapsed": true
   },
   "outputs": [],
   "source": [
    "# always yielding a real result, even dividing two integers\n",
    "from __future__ import division\n",
    "\n",
    "import numpy as np\n",
    "import matplotlib.pyplot as plt\n",
    "import pandas as pd\n",
    "import scipy.stats as st\n",
    "\n",
    "# plot inline\n",
    "%matplotlib inline"
   ]
  },
  {
   "cell_type": "markdown",
   "metadata": {},
   "source": [
    "Carregando dados de feriados: cdi e bmf.\n",
    "Fonte: [anbima](http://www.anbima.com.br/feriados/feriados.asp)"
   ]
  },
  {
   "cell_type": "code",
   "execution_count": 15,
   "metadata": {
    "collapsed": true
   },
   "outputs": [],
   "source": [
    "feriado_arq = 'feriados.xlsx'\n",
    "feriado_cdi = pd.read_excel(feriado_arq,'cdi')\n",
    "feriado_bmf = pd.read_excel(feriado_arq,'bmf')"
   ]
  },
  {
   "cell_type": "raw",
   "metadata": {},
   "source": [
    "Carregando dados de mercado"
   ]
  },
  {
   "cell_type": "code",
   "execution_count": 33,
   "metadata": {
    "collapsed": false
   },
   "outputs": [],
   "source": [
    "mkt_series_arq = 'BBergValues.xlsx'\n",
    "usdbrl = pd.read_excel(mkt_series_arq,'Sheet1',skiprows=1,index_col=0,parse_cols=\"A:E\")\n",
    "ptax = pd.read_excel(mkt_series_arq,'Sheet1',skiprows=1,index_col=0,parse_cols=\"G:H\")\n",
    "ibov = pd.read_excel(mkt_series_arq,'Sheet1',skiprows=1,index_col=0,parse_cols=\"J:M\")\n",
    "di1f21 = pd.read_excel(mkt_series_arq,'Sheet1',skiprows=1,index_col=0,parse_cols=\"O:S\")\n",
    "cdi = pd.read_excel(mkt_series_arq,'Sheet1',skiprows=1,index_col=0,parse_cols=\"U:V\")\n",
    "cds5y = pd.read_excel(mkt_series_arq,'Sheet1',skiprows=1,index_col=0,parse_cols=\"X:AB\")\n",
    "vol1m_off = pd.read_excel(mkt_series_arq,'Sheet1',skiprows=1,index_col=0,parse_cols=\"AD:AH\")\n",
    "vol3m_off = pd.read_excel(mkt_series_arq,'Sheet1',skiprows=1,index_col=0,parse_cols=\"AJ:AN\")\n",
    "vol12m_off = pd.read_excel(mkt_series_arq,'Sheet1',skiprows=1,index_col=0,parse_cols=\"AP:AT\")\n",
    "swpprecdi1m = pd.read_excel(mkt_series_arq,'Sheet1',skiprows=1,index_col=0,parse_cols=\"AV:AZ\")\n",
    "swpprecdi3m = pd.read_excel(mkt_series_arq,'Sheet1',skiprows=1,index_col=0,parse_cols=\"BB:BF\")\n",
    "swpprecdi12m = pd.read_excel(mkt_series_arq,'Sheet1',skiprows=1,index_col=0,parse_cols=\"BH:BL\")\n",
    "fwd1m_on = pd.read_excel(mkt_series_arq,'Sheet1',skiprows=1,index_col=0,parse_cols=\"BN:BR\")\n",
    "fwd3m_on = pd.read_excel(mkt_series_arq,'Sheet1',skiprows=1,index_col=0,parse_cols=\"BT:BX\")\n",
    "fwd12m_on = pd.read_excel(mkt_series_arq,'Sheet1',skiprows=1,index_col=0,parse_cols=\"BZ:CD\")\n",
    "\n"
   ]
  },
  {
   "cell_type": "code",
   "execution_count": 38,
   "metadata": {
    "collapsed": false
   },
   "outputs": [
    {
     "data": {
      "text/plain": [
       "<matplotlib.axes._subplots.AxesSubplot at 0x19aec72a198>"
      ]
     },
     "execution_count": 38,
     "metadata": {},
     "output_type": "execute_result"
    },
    {
     "data": {
      "image/png": "[encoded data removed]",
      "text/plain": [
       "<matplotlib.figure.Figure at 0x19aec3b4a90>"
      ]
     },
     "metadata": {},
     "output_type": "display_data"
    }
   ],
   "source": [
    "cdi.plot()"
   ]
  },
  {
   "cell_type": "code",
   "execution_count": null,
   "metadata": {
    "collapsed": true
   },
   "outputs": [],
   "source": []
  }
 ],
 "metadata": {
  "kernelspec": {
   "display_name": "Python 3",
   "language": "python",
   "name": "python3"
  },
  "language_info": {
   "codemirror_mode": {
    "name": "ipython",
    "version": 3
   },
   "file_extension": ".py",
   "mimetype": "text/x-python",
   "name": "python",
   "nbconvert_exporter": "python",
   "pygments_lexer": "ipython3",
   "version": "3.5.1"
  }
 },
 "nbformat": 4,
 "nbformat_minor": 0
}
